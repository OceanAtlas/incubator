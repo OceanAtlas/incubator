{
 "cells": [
  {
   "cell_type": "code",
   "execution_count": 63,
   "metadata": {},
   "outputs": [],
   "source": [
    "import netCDF4\n",
    "import numpy as np\n",
    "import pandas as pd\n",
    "import matplotlib as mpl\n",
    "import matplotlib.pyplot as plt\n",
    "import matplotlib.cm as cm \n",
    "from matplotlib.colors import LinearSegmentedColormap\n",
    "import csv, sys, pdb, time, math\n",
    "import xarray as xr"
   ]
  },
  {
   "cell_type": "code",
   "execution_count": 64,
   "metadata": {},
   "outputs": [],
   "source": [
    "file = \"/Users/oz/Downloads/A20182132018243.L3m_MO_CHL_chlor_a_4km.nc\""
   ]
  },
  {
   "cell_type": "code",
   "execution_count": 65,
   "metadata": {},
   "outputs": [],
   "source": [
    "rootgrp = netCDF4.Dataset(file, \"r\", format=\"NETCDF4\")"
   ]
  },
  {
   "cell_type": "code",
   "execution_count": 66,
   "metadata": {},
   "outputs": [
    {
     "name": "stdout",
     "output_type": "stream",
     "text": [
      "NETCDF4\n",
      "OrderedDict([('lat', <class 'netCDF4._netCDF4.Dimension'>: name = 'lat', size = 4320\n",
      "), ('lon', <class 'netCDF4._netCDF4.Dimension'>: name = 'lon', size = 8640\n",
      "), ('rgb', <class 'netCDF4._netCDF4.Dimension'>: name = 'rgb', size = 3\n",
      "), ('eightbitcolor', <class 'netCDF4._netCDF4.Dimension'>: name = 'eightbitcolor', size = 256\n",
      ")])\n",
      "OrderedDict([('chlor_a', <class 'netCDF4._netCDF4.Variable'>\n",
      "float32 chlor_a(lat, lon)\n",
      "    long_name: Chlorophyll Concentration, OCI Algorithm\n",
      "    units: mg m^-3\n",
      "    standard_name: mass_concentration_of_chlorophyll_in_sea_water\n",
      "    _FillValue: -32767.0\n",
      "    valid_min: 0.001\n",
      "    valid_max: 100.0\n",
      "    reference: Hu, C., Lee Z., and Franz, B.A. (2012). Chlorophyll-a algorithms for oligotrophic oceans: A novel approach based on three-band reflectance difference, J. Geophys. Res., 117, C01011, doi:10.1029/2011JC007395.\n",
      "    display_scale: log\n",
      "    display_min: 0.01\n",
      "    display_max: 20.0\n",
      "unlimited dimensions: \n",
      "current shape = (4320, 8640)\n",
      "filling on), ('lat', <class 'netCDF4._netCDF4.Variable'>\n",
      "float32 lat(lat)\n",
      "    long_name: Latitude\n",
      "    units: degrees_north\n",
      "    standard_name: latitude\n",
      "    _FillValue: -999.0\n",
      "    valid_min: -90.0\n",
      "    valid_max: 90.0\n",
      "unlimited dimensions: \n",
      "current shape = (4320,)\n",
      "filling on), ('lon', <class 'netCDF4._netCDF4.Variable'>\n",
      "float32 lon(lon)\n",
      "    long_name: Longitude\n",
      "    units: degrees_east\n",
      "    standard_name: longitude\n",
      "    _FillValue: -999.0\n",
      "    valid_min: -180.0\n",
      "    valid_max: 180.0\n",
      "unlimited dimensions: \n",
      "current shape = (8640,)\n",
      "filling on), ('palette', <class 'netCDF4._netCDF4.Variable'>\n",
      "uint8 palette(rgb, eightbitcolor)\n",
      "unlimited dimensions: \n",
      "current shape = (3, 256)\n",
      "filling on, default _FillValue of 255 ignored\n",
      ")])\n",
      "4320\n",
      "8640\n"
     ]
    }
   ],
   "source": [
    "print(rootgrp.data_model)\n",
    "print(rootgrp.dimensions)\n",
    "\n",
    "print(rootgrp.variables)\n",
    "print(len(rootgrp.dimensions.get(\"lat\")))\n",
    "print(len(rootgrp.dimensions.get(\"lon\")))"
   ]
  },
  {
   "cell_type": "code",
   "execution_count": 67,
   "metadata": {},
   "outputs": [
    {
     "name": "stdout",
     "output_type": "stream",
     "text": [
      "<class 'netCDF4._netCDF4.Variable'>\n",
      "float32 chlor_a(lat, lon)\n",
      "    long_name: Chlorophyll Concentration, OCI Algorithm\n",
      "    units: mg m^-3\n",
      "    standard_name: mass_concentration_of_chlorophyll_in_sea_water\n",
      "    _FillValue: -32767.0\n",
      "    valid_min: 0.001\n",
      "    valid_max: 100.0\n",
      "    reference: Hu, C., Lee Z., and Franz, B.A. (2012). Chlorophyll-a algorithms for oligotrophic oceans: A novel approach based on three-band reflectance difference, J. Geophys. Res., 117, C01011, doi:10.1029/2011JC007395.\n",
      "    display_scale: log\n",
      "    display_min: 0.01\n",
      "    display_max: 20.0\n",
      "unlimited dimensions: \n",
      "current shape = (4320, 8640)\n",
      "filling on\n"
     ]
    }
   ],
   "source": [
    "aVar = rootgrp.variables.get('chlor_a') # a Variable Object\n",
    "print(aVar)"
   ]
  },
  {
   "cell_type": "code",
   "execution_count": 68,
   "metadata": {},
   "outputs": [
    {
     "name": "stdout",
     "output_type": "stream",
     "text": [
      "4320\n",
      "8640\n"
     ]
    }
   ],
   "source": [
    "# get lat dimension\n",
    "theLatDim = rootgrp.dimensions.get(\"lat\")\n",
    "latSize = theLatDim.size\n",
    "print(latSize)\n",
    "\n",
    "# the lon dimensions\n",
    "lonSize = rootgrp.dimensions.get(\"lon\").size\n",
    "print(lonSize)\n",
    "\n",
    "grid = np.zeros((latSize, lonSize))\n",
    "\n",
    "latGrid = np.zeros((latSize))\n",
    "lonGrid = np.zeros((lonSize))\n",
    "ltVar = rootgrp.variables.get('lat')\n",
    "lnVar = rootgrp.variables.get('lon')\n",
    "\n",
    "for lt in range(latSize):\n",
    "    latGrid[lt] = ltVar[lt]\n",
    "#     print(ltVar[lt], \"\\t\", end=\"\\n\")\n",
    "for ln in range(lonSize):\n",
    "    lonGrid[ln] = lnVar[ln]\n",
    "#     print(lnVar[ln], end=\"\")\n",
    "\n",
    "#iterate the netcdf array at the surface (0)\n",
    "# for lt in range(latSize):\n",
    "#     for ln in range(lonSize):\n",
    "#         print(aVar[lt, ln], end=\"\")\n",
    "#     print()"
   ]
  },
  {
   "cell_type": "code",
   "execution_count": 69,
   "metadata": {},
   "outputs": [],
   "source": [
    "chlor_a_ds = xr.open_dataset(file)"
   ]
  },
  {
   "cell_type": "code",
   "execution_count": 53,
   "metadata": {},
   "outputs": [
    {
     "name": "stdout",
     "output_type": "stream",
     "text": [
      "<xarray.Dataset>\n",
      "Dimensions:  (eightbitcolor: 256, lat: 4320, lon: 8640, rgb: 3)\n",
      "Coordinates:\n",
      "  * lat      (lat) float32 89.979164 89.9375 89.89583 ... -89.93751 -89.97918\n",
      "  * lon      (lon) float32 -179.97917 -179.9375 ... 179.93752 179.97917\n",
      "Dimensions without coordinates: eightbitcolor, rgb\n",
      "Data variables:\n",
      "    chlor_a  (lat, lon) float32 ...\n",
      "    palette  (rgb, eightbitcolor) uint8 ...\n",
      "Attributes:\n",
      "    product_name:                      A20182132018243.L3m_MO_CHL_chlor_a_4km.nc\n",
      "    instrument:                        MODIS\n",
      "    title:                             MODISA Level-3 Standard Mapped Image\n",
      "    project:                           Ocean Biology Processing Group (NASA/G...\n",
      "    platform:                          Aqua\n",
      "    temporal_range:                    month\n",
      "    processing_version:                2018.0\n",
      "    date_created:                      2018-10-09T21:47:08.000Z\n",
      "    history:                           l3mapgen par=A20182132018243.L3m_MO_CH...\n",
      "    l2_flag_names:                     ATMFAIL,LAND,HILT,HISATZEN,STRAYLIGHT,...\n",
      "    time_coverage_start:               2018-08-01T01:00:00.000Z\n",
      "    time_coverage_end:                 2018-09-01T02:25:00.000Z\n",
      "    start_orbit_number:                86396\n",
      "    end_orbit_number:                  86849\n",
      "    map_projection:                    Equidistant Cylindrical\n",
      "    latitude_units:                    degrees_north\n",
      "    longitude_units:                   degrees_east\n",
      "    northernmost_latitude:             90.0\n",
      "    southernmost_latitude:             -90.0\n",
      "    westernmost_longitude:             -180.0\n",
      "    easternmost_longitude:             180.0\n",
      "    geospatial_lat_max:                90.0\n",
      "    geospatial_lat_min:                -90.0\n",
      "    geospatial_lon_max:                180.0\n",
      "    geospatial_lon_min:                -180.0\n",
      "    grid_mapping_name:                 latitude_longitude\n",
      "    latitude_step:                     0.041666668\n",
      "    longitude_step:                    0.041666668\n",
      "    sw_point_latitude:                 -89.979164\n",
      "    sw_point_longitude:                -179.97917\n",
      "    geospatial_lon_resolution:         4.6383123\n",
      "    geospatial_lat_resolution:         4.6383123\n",
      "    geospatial_lat_units:              degrees_north\n",
      "    geospatial_lon_units:              degrees_east\n",
      "    spatialResolution:                 4.64 km\n",
      "    number_of_lines:                   4320\n",
      "    number_of_columns:                 8640\n",
      "    measure:                           Mean\n",
      "    suggested_image_scaling_minimum:   0.01\n",
      "    suggested_image_scaling_maximum:   20.0\n",
      "    suggested_image_scaling_type:      LOG\n",
      "    suggested_image_scaling_applied:   No\n",
      "    _lastModified:                     2018-10-09T21:47:08.000Z\n",
      "    Conventions:                       CF-1.6 ACDD-1.3\n",
      "    institution:                       NASA Goddard Space Flight Center, Ocea...\n",
      "    standard_name_vocabulary:          CF Standard Name Table v36\n",
      "    naming_authority:                  gov.nasa.gsfc.sci.oceandata\n",
      "    id:                                A20182132018243.L3b_MO_CHL.nc/L3/A2018...\n",
      "    license:                           http://science.nasa.gov/earth-science/...\n",
      "    creator_name:                      NASA/GSFC/OBPG\n",
      "    publisher_name:                    NASA/GSFC/OBPG\n",
      "    creator_email:                     data@oceancolor.gsfc.nasa.gov\n",
      "    publisher_email:                   data@oceancolor.gsfc.nasa.gov\n",
      "    creator_url:                       http://oceandata.sci.gsfc.nasa.gov\n",
      "    publisher_url:                     http://oceandata.sci.gsfc.nasa.gov\n",
      "    processing_level:                  L3 Mapped\n",
      "    cdm_data_type:                     grid\n",
      "    identifier_product_doi_authority:  http://dx.doi.org\n",
      "    identifier_product_doi:            10.5067/AQUA/MODIS/L3M/CHL/2018\n",
      "    keywords:                          Earth Science > Oceans > Ocean Chemist...\n",
      "    keywords_vocabulary:               NASA Global Change Master Directory (G...\n",
      "    data_bins:                         16353084\n",
      "    data_minimum:                      0.006072768\n",
      "    data_maximum:                      99.716034\n"
     ]
    }
   ],
   "source": [
    "print(chlor_a_ds)"
   ]
  },
  {
   "cell_type": "code",
   "execution_count": 70,
   "metadata": {},
   "outputs": [],
   "source": [
    "chlor_da = chlor_a_ds['chlor_a'].values"
   ]
  },
  {
   "cell_type": "code",
   "execution_count": 71,
   "metadata": {},
   "outputs": [
    {
     "name": "stdout",
     "output_type": "stream",
     "text": [
      "(4320, 8640)\n",
      "[ 89.979164  89.9375    89.89583  ... -89.895836 -89.93751  -89.97918 ]\n",
      "[-179.97917 -179.9375  -179.89584 ...  179.89583  179.93752  179.97917]\n"
     ]
    }
   ],
   "source": [
    "print(chlor_da.shape)\n",
    "latVals = chlor_a_ds['lat'].values\n",
    "lonVals = chlor_a_ds['lon'].values\n",
    "print(latVals)\n",
    "print(lonVals)"
   ]
  },
  {
   "cell_type": "code",
   "execution_count": 78,
   "metadata": {},
   "outputs": [
    {
     "data": {
      "text/plain": [
       "<matplotlib.image.AxesImage at 0x13c6e7da0>"
      ]
     },
     "execution_count": 78,
     "metadata": {},
     "output_type": "execute_result"
    },
    {
     "data": {
      "image/png": "[encoded data removed]",
      "text/plain": [
       "<Figure size 432x288 with 2 Axes>"
      ]
     },
     "metadata": {
      "needs_background": "light"
     },
     "output_type": "display_data"
    }
   ],
   "source": [
    "chlor_a_ds['chlor_a'].plot.imshow(vmin=0.0, vmax=30.0)"
   ]
  },
  {
   "cell_type": "code",
   "execution_count": 73,
   "metadata": {},
   "outputs": [],
   "source": [
    "latVals = chlor_a_ds['lat'].values"
   ]
  },
  {
   "cell_type": "code",
   "execution_count": 74,
   "metadata": {},
   "outputs": [
    {
     "name": "stdout",
     "output_type": "stream",
     "text": [
      "[ 89.979164  89.9375    89.89583  ... -89.895836 -89.93751  -89.97918 ]\n"
     ]
    }
   ],
   "source": [
    "print(latVals)"
   ]
  },
  {
   "cell_type": "code",
   "execution_count": 75,
   "metadata": {},
   "outputs": [
    {
     "data": {
      "image/png": "[encoded data removed]",
      "text/plain": [
       "<Figure size 432x288 with 1 Axes>"
      ]
     },
     "metadata": {
      "needs_background": "light"
     },
     "output_type": "display_data"
    }
   ],
   "source": [
    "plt.imshow(chlor_da, extent=(lonVals.min(), lonVals.max(), latVals.min(), latVals.max()),\n",
    "          interpolation='nearest', cmap=cm.gist_rainbow) #LRBT\n",
    "plt.show()"
   ]
  },
  {
   "cell_type": "code",
   "execution_count": 76,
   "metadata": {},
   "outputs": [],
   "source": [
    "lapush_da = chlor_a_ds['chlor_a'].sel(lat=[47.97], lon=[-125.37], method='nearest')"
   ]
  },
  {
   "cell_type": "code",
   "execution_count": 77,
   "metadata": {},
   "outputs": [
    {
     "data": {
      "text/plain": [
       "<xarray.DataArray 'chlor_a' (lat: 1, lon: 1)>\n",
       "array([[4.308369]], dtype=float32)\n",
       "Coordinates:\n",
       "  * lat      (lat) float32 47.979168\n",
       "  * lon      (lon) float32 -125.354164\n",
       "Attributes:\n",
       "    long_name:      Chlorophyll Concentration, OCI Algorithm\n",
       "    units:          mg m^-3\n",
       "    standard_name:  mass_concentration_of_chlorophyll_in_sea_water\n",
       "    valid_min:      0.001\n",
       "    valid_max:      100.0\n",
       "    reference:      Hu, C., Lee Z., and Franz, B.A. (2012). Chlorophyll-a alg...\n",
       "    display_scale:  log\n",
       "    display_min:    0.01\n",
       "    display_max:    20.0"
      ]
     },
     "execution_count": 77,
     "metadata": {},
     "output_type": "execute_result"
    }
   ],
   "source": [
    "lapush_da"
   ]
  },
  {
   "cell_type": "code",
   "execution_count": null,
   "metadata": {},
   "outputs": [],
   "source": []
  }
 ],
 "metadata": {
  "kernelspec": {
   "display_name": "Python 3",
   "language": "python",
   "name": "python3"
  },
  "language_info": {
   "codemirror_mode": {
    "name": "ipython",
    "version": 3
   },
   "file_extension": ".py",
   "mimetype": "text/x-python",
   "name": "python",
   "nbconvert_exporter": "python",
   "pygments_lexer": "ipython3",
   "version": "3.7.2"
  }
 },
 "nbformat": 4,
 "nbformat_minor": 2
}
