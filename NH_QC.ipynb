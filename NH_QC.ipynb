{
 "cells": [
  {
   "cell_type": "code",
   "execution_count": 1,
   "metadata": {},
   "outputs": [],
   "source": [
    "import numpy as np\n",
    "import pandas as pd\n",
    "import matplotlib as mpl\n",
    "import matplotlib.pyplot as plt\n",
    "import matplotlib.cm as cm\n",
    "import json\n",
    "from IPython.core.debugger import set_trace\n",
    "from scipy.stats import iqr"
   ]
  },
  {
   "cell_type": "code",
   "execution_count": 2,
   "metadata": {},
   "outputs": [],
   "source": [
    "file='/Users/oz/downloads/nh_all.json'"
   ]
  },
  {
   "cell_type": "code",
   "execution_count": 3,
   "metadata": {},
   "outputs": [],
   "source": [
    "with open(file) as f:\n",
    "    data = json.load(f)"
   ]
  },
  {
   "cell_type": "code",
   "execution_count": 4,
   "metadata": {},
   "outputs": [
    {
     "data": {
      "text/plain": [
       "dict_keys(['deployment_meta', 'obs_vals', 'time_vals', 'normalized_time_vals'])"
      ]
     },
     "execution_count": 4,
     "metadata": {},
     "output_type": "execute_result"
    }
   ],
   "source": [
    "data.keys()"
   ]
  },
  {
   "cell_type": "code",
   "execution_count": 5,
   "metadata": {},
   "outputs": [],
   "source": [
    "meta=data['deployment_meta']"
   ]
  },
  {
   "cell_type": "code",
   "execution_count": 6,
   "metadata": {},
   "outputs": [
    {
     "data": {
      "text/plain": [
       "dict_keys(['deployment_id', 'params', 'displaynames', 'units', 'min', 'max', 'computed_params', 'lat', 'lon', 'locations', 'startdate', 'endDate', 'startdate_epoch', 'endDate_epoch', 'deploy_startdates', 'deploy_enddates', 'deploy_startdates_epoch', 'deploy_enddates_epoch', 'deploy_startdates_normalized', 'deploy_enddates_normalized', 'deploy_processed_flags', 'URL_Data', 'URL_Metadata'])"
      ]
     },
     "execution_count": 6,
     "metadata": {},
     "output_type": "execute_result"
    }
   ],
   "source": [
    "meta.keys()"
   ]
  },
  {
   "cell_type": "code",
   "execution_count": 7,
   "metadata": {},
   "outputs": [],
   "source": [
    "d2 = [str(k)+\"x\" for k in meta.values()]"
   ]
  },
  {
   "cell_type": "code",
   "execution_count": 8,
   "metadata": {},
   "outputs": [
    {
     "data": {
      "text/plain": [
       "['nhx',\n",
       " \"['systemnum', 'xco2seadryair', 'xco2airdryair', 'o2percent', 'logicbat', 'xbat', 'zerocoef', 'spancoef', 'spanflag', 'zeroflag', 'sst', 'stdsst', 'conduct', 'stdcond', 'sal', 'stdsal', 'ph', 'phtemp', 'phbatt', 'licortemp_zpon', 'licorpres_zpon', 'stdlicortemp_zpon', 'stdlicorpres_zpon', 'xco2_zpon', 'stdxco2_zpon', 'o2_zpon', 'stdo2_zpon', 'rh_zpon', 'stdrh_zpon', 'temp_zpon', 'stdtemp_zpon', 'licortemp_zpoff', 'licorpres_zpoff', 'stdlicortemp_zpoff', 'stdlicorpres_zpoff', 'xco2_zpoff', 'stdxco2_zpoff', 'o2_zpoff', 'stdo2_zpoff', 'rh_zpoff', 'stdrh_zpoff', 'temp_zpoff', 'stdtemp_zpoff', 'licortemp_zpcal', 'licorpres_zpcal', 'stdlicortemp_zpcal', 'stdlicorpres_zpcal', 'xco2_zpcal', 'stdxco2_zpcal', 'o2_zpcal', 'stdo2_zpcal', 'rh_zpcal', 'stdrh_zpcal', 'temp_zpcal', 'stdtemp_zpcal', 'licortemp_spon', 'licorpres_spon', 'stdlicortemp_spon', 'stdlicorpres_spon', 'xco2_spon', 'stdxco2_spon', 'o2_spon', 'stdo2_spon', 'rh_spon', 'stdrh_spon', 'temp_spon', 'stdtemp_spon', 'licortemp_spoff', 'licorpres_spoff', 'stdlicortemp_spoff', 'stdlicorpres_spoff', 'xco2_spoff', 'stdxco2_spoff', 'o2_spoff', 'stdo2_spoff', 'rh_spoff', 'stdrh_spoff', 'temp_spoff', 'stdtemp_spoff', 'licortemp_spcal', 'licorpres_spcal', 'stdlicortemp_spcal', 'stdlicorpres_spcal', 'xco2_spcal', 'stdxco2_spcal', 'o2_spcal', 'stdo2_spcal', 'rh_spcal', 'stdrh_spcal', 'temp_spcal', 'stdtemp_spcal', 'licortemp_epon', 'licorpres_epon', 'stdlicortemp_epon', 'stdlicorpres_epon', 'xco2_epon', 'stdxco2_epon', 'o2_epon', 'stdo2_epon', 'rh_epon', 'stdrh_epon', 'temp_epon', 'stdtemp_epon', 'licortemp_epoff', 'licorpres_epoff', 'stdlicortemp_epoff', 'stdlicorpres_epoff', 'xco2_epoff', 'stdxco2_epoff', 'o2_epoff', 'stdo2_epoff', 'rh_epoff', 'stdrh_epoff', 'temp_epoff', 'stdtemp_epoff', 'licortemp_apon', 'licorpres_apon', 'stdlicortemp_apon', 'stdlicorpres_apon', 'xco2_apon', 'stdxco2_apon', 'o2_apon', 'stdo2_apon', 'rh_apon', 'stdrh_apon', 'temp_apon', 'stdtemp_apon', 'licortemp_apoff', 'licorpres_apoff', 'stdlicortemp_apoff', 'stdlicorpres_apoff', 'xco2_apoff', 'stdxco2_apoff', 'o2_apoff', 'stdo2_apoff', 'rh_apoff', 'stdrh_apoff', 'temp_apoff', 'stdtemp_apoff', 'chl', 'stdchl', 'ntu', 'stdntu', 'o2', 'stdo2', 'trans', 'stdtrans', 'sc_o2_umolkg', 'sigmatheta', 'diff_xco2', 'delpco2', 'presdiffzero', 'presdiffspan', 'presdiffequil', 'presdiffair', 'sf_num_frames', 'sf_internal_ph_avg', 'sf_internal_ph_sd', 'sf_internal_ph_avg_flag', 'sf_external_ph_avg', 'sf_external_ph_sd', 'sf_temp_avg', 'sf_temp_sd', 'sf_internal_v_avg', 'sf_internal_v_sd', 'sf_external_v_avg', 'sf_external_v_sd', 'sf_thermistor_v_avg', 'sf_thermistor_v_sd', 'sf_v_supply_avg', 'sf_v_supply_sd', 'sf_i_supply_avg', 'sf_i_supply_sd', 'sf_humidity_avg', 'sf_humidity_sd', 'sf_v5v_avg', 'sf_v5v_sd', 'sf_v_iso_avg', 'sf_v_iso_sd', 'gpstime', 'gpslon', 'gpslat', 'gps_second', 'gps_quality', 'v0', 'stdv0', 'v1', 'stdv1', 'v2', 'stdv2', 'v3', 'stdv3', 'v4', 'stdv4', 'v5', 'stdv5', 'obs_o2', 'obs_o2_std', 'obs_o2_temp', 'obs_o2_temp_std', 'sbe16batt', 'sbe16curr']x\",\n",
       " \"['System Number', 'xCO2 MAPCO2 (dry) SW', 'xCO2 MAPCO2 (dry) Air', '%O2 (Maxtec)', 'Battery Voltage-Logic', 'Battery Voltage-Trans', 'Zero Coefficient', 'Span Coefficient', 'Span Flag', 'Zero Flag', 'SST', 'SST std', 'Conductivity', 'Conductivity std', 'Salinity', 'Salinity std', 'pH', 'pH Temperature', 'pH Battery', 'Licor Temp (zpon)', 'Licor Press (zpon)', 'Licor Temp std (zpon)', 'Licor Press std (zpon)', 'xCO2 (zpon)', 'xCO2 std (zpon)', 'O2 (zpon)', 'O2 std (zpon)', 'RH (zpon)', 'RH std (zpon)', 'RH Temperature (zpon)', 'Temp std (zpon)', 'Licor Temp (zpoff)', 'Licor Press (zpoff)', 'Licor Temp std (zpoff)', 'Licor Press std (zpoff)', 'xCO2 (zpoff)', 'xCO2 std (zpoff)', 'O2 (zpoff)', 'O2 std (zpoff)', 'RH (zpoff)', 'RH std (zpoff)', 'RH Temperature (zpoff)', 'Temp std (zpoff)', 'Licor Temp (zpcal)', 'Licor Press (zpcal)', 'Licor Temp std (zpcal)', 'Licor Press std (zpcal)', 'xCO2 (zpcal)', 'xCO2 std (zpcal)', 'O2 (zpcal)', 'O2 std (zpcal)', 'RH (zpcal)', 'RH std (zpcal)', 'RH Temperature (zpcal)', 'Temp std (zpcal)', 'Licor Temp (spon)', 'Licor Press (spon)', 'Licor Temp std (spon)', 'Licor Press std (spon)', 'xCO2 (spon)', 'xCO2 std (spon)', 'O2 (spon)', 'O2 std (spon)', 'RH (spon)', 'RH std (spon)', 'RH Temperature (spon)', 'Temp std (spon)', 'Licor Temp (spoff)', 'Licor Press (spoff)', 'Licor Temp std (spoff)', 'Licor Press std (spoff)', 'xCO2 (spoff)', 'xCO2 std (spoff)', 'O2 (spoff)', 'O2 std (spoff)', 'RH (spoff)', 'RH std (spoff)', 'RH Temperature (spoff)', 'Temp std (spoff)', 'Licor Temp (spcal)', 'Licor Press (spcal)', 'Licor Temp std (spcal)', 'Licor Press std (spcal)', 'xCO2 (spcal)', 'xCO2 std (spcal)', 'O2 (spcal)', 'O2 std (spcal)', 'RH (spcal)', 'RH std (spcal)', 'RH Temperature (spcal)', 'Temp std (spcal)', 'Licor Temp (epon)', 'Licor Press (epon)', 'Licor Temp std (epon)', 'Licor Press std (epon)', 'xCO2 (epon)', 'xCO2 std (epon)', 'O2 (epon)', 'O2 std (epon)', 'RH (epon)', 'RH std (epon)', 'RH Temperature (epon)', 'Temp std (epon)', 'Licor Temp (epoff)', 'Licor Press (epoff)', 'Licor Temp std (epoff)', 'Licor Press std (epoff)', 'xCO2 (epoff)', 'xCO2 std (epoff)', 'O2 (epoff)', 'O2 std (epoff)', 'RH (epoff)', 'RH std (epoff)', 'RH Temperature (epoff)', 'Temp std (epoff)', 'Licor Temp (apon)', 'Licor Press (apon)', 'Licor Temp std (apon)', 'Licor Press std (apon)', 'xCO2 (apon)', 'xCO2 std (apon)', 'O2 (apon)', 'O2 std (apon)', 'RH (apon)', 'RH std (apon)', 'RH Temperature (apon)', 'Temp std (apon)', 'Licor Temp (apoff)', 'Licor Press (apoff)', 'Licor Temp std (apoff)', 'Licor Press std (apoff)', 'xCO2 (apoff)', 'xCO2 std (apoff)', 'O2 (apoff)', 'O2 std (apoff)', 'RH (apoff)', 'RH std (apoff)', 'RH Temperature (apoff)', 'Temp std (apoff)', 'Chl', 'Chl std', 'NTU', 'NTU std', 'O2 (optode)', 'O2 std (optode)', 'Trans', 'Trans std', 'O2 frm Optode (SC)', 'Sigma-Theta', 'Diff xCO2', 'Delta xCO2 (SW - Air)', 'Press Diff (zero pump)', 'Press Diff (span pump)', 'Press Diff (equil pump)', 'Press Diff (air pump)', 'SeaFET # Bursts in Frame', 'SeaFET Int pH avg', 'SeaFET Int pH std', 'SeaFET Int pH avg flag', 'SeaFET Ext pH avg', 'SeaFET Ext pH std', 'SeaFET Temperature avg', 'SeaFET Temp std', 'SeaFET Int Voltage avg', 'SeaFET Int Voltage std', 'SeaFET Ext Voltage avg', 'SeaFET Ext Voltage std', 'SeaFET Therm Volt avg', 'SeaFET Therm Volt std', 'SeaFET Supply Volt avg', 'SeaFET Supply Volt std', 'SeaFET Supply Curr avg', 'SeaFET Supply Curr std', 'SeaFET Humidity avg', 'SeaFET Humidity std', 'SeaFET V5V avg', 'SeaFET V5V std', 'SeaFET Iso Voltage avg', 'SeaFET Iso Voltage std', 'GPS Time', 'GPS Longitude', 'GPS Latitude', 'GPS Seconds to Get Fix', 'GPS Quality Flag', 'Channel 0 Voltage', 'Channel 0 Voltage std', 'Channel 1 Voltage', 'Channel 1 Voltage std', 'Channel 2 Voltage', 'Channel 2 Voltage std', 'Channel 3 Voltage', 'Channel 3 Voltage std', 'Channel 4 Voltage', 'Channel 4 Voltage std', 'Channel 5 Voltage', 'Channel 5 Voltage std', 'O2 (optode)', 'O2 std (optode)', 'O2 Temp (all optodes)', 'O2 Temp std (all optodes)', 'SBE16 Battery Voltage (avg)', 'SBE16 Battery Current (avg)']x\",\n",
       " \"['', 'umol/mol', 'umol/mol', '%', 'V', 'V', '', '', '', '', 'Deg C', 'Deg C', 'S/m', 'S/m', '', '', '', 'Deg C', 'V', 'Deg C', 'kPa', 'Deg C', 'kPa', 'umol/mol', 'umol/mol', '%', '%', '%', '%', 'Deg C', 'Deg C', 'Deg C', 'kPa', 'Deg C', 'kPa', 'umol/mol', 'umol/mol', '%', '%', '%', '%', 'Deg C', 'Deg C', 'Deg C', 'kPa', 'Deg C', 'kPa', 'umol/mol', 'umol/mol', '%', '%', '%', '%', 'Deg C', 'Deg C', 'Deg C', 'kPa', 'Deg C', 'kPa', 'umol/mol', 'umol/mol', '%', '%', '%', '%', 'Deg C', 'Deg C', 'Deg C', 'kPa', 'Deg C', 'kPa', 'umol/mol', 'umol/mol', '%', '%', '%', '%', 'Deg C', 'Deg C', 'Deg C', 'kPa', 'Deg C', 'kPa', 'umol/mol', 'umol/mol', '%', '%', '%', '%', 'Deg C', 'Deg C', 'Deg C', 'kPa', 'Deg C', 'kPa', 'umol/mol', 'umol/mol', '%', '%', '%', '%', 'Deg C', 'Deg C', 'Deg C', 'kPa', 'Deg C', 'kPa', 'umol/mol', 'umol/mol', '%', '%', '%', '%', 'Deg C', 'Deg C', 'Deg C', 'kPa', 'Deg C', 'kPa', 'umol/mol', 'umol/mol', '%', '%', '%', '%', 'Deg C', 'Deg C', 'Deg C', 'kPa', 'Deg C', 'kPa', 'umol/mol', 'umol/mol', '%', '%', '%', '%', 'Deg C', 'Deg C', 'ug/l', 'ug/l', 'NTU', 'NTU', 'uM', 'uM', '', '', 'umol/kg', 'kg/m3', 'umol/mol', 'umol/mol', 'kPa', 'kPa', 'kPa', 'kPa', 'N', '', '', '', '', '', 'Deg C', 'Deg C', 'V', 'V', 'V', 'V', 'V', 'V', 'V', 'V', 'mA', 'mA', '%', '%', 'V', 'V', 'V', 'V', 'GPS Time', 'Deg', 'Deg', '', '', 'V', 'V', 'V', 'V', 'V', 'V', 'V', 'V', 'V', 'V', 'V', 'V', 'ml/l', 'ml/l', 'Deg C', 'Deg C', 'V', 'mA']x\",\n",
       " '[14, 184.840328628427, 356.102881535737, 91.4427860696517, 12, 10.3, 0, 0, 0, 0, 0, 0, -9e-05, 0, 0, 0, -570.3815, 0.9813, 5.62542, -0.5, 0, 0, 0, -50, 0, 0, 0, 0, 0, -0.9, 0, -0.35, 0, 0, 0, -50, 0, 0, 0, 0, 0, -0.8, 0, -0.14, 0, 0, 0, -50, 0, 0, 0, 0, 0, -0.9, 0, 0, 0, 0, 0, 0, 0, 0, 0, 0, 0, -0.8, 0, 0, 0, 0, 0, 0, 0, 0, 0, 0, 0, -0.9, 0, 0, 0, 0, 0, 0, 0, 0, 0, 0, 0, -0.9, 0, 0, 0, 0, 0, 0, 0, 0, 0, 0, 0, -0.8, 0, 0, 0, 0, 0, 0, 0, 0, 0, 0, 0, -0.8, 0, 0, 0, 0, 0, 0, 0, 0, 0, 0, 0, -0.8, 0, 0, 0, 0, 0, 0, 0, 0, 0, 0, 0, -0.8, 0, -0.68, -0.236761904761905, -0.425, -0.198409090909091, 0, 0, -999, -999, -99.1425888836272, -1.38427533473373, -1501.75, -1502.17491680634, -0.900000000000006, -21.78, 0, 0, -999, -999, -999, -999, -999, -999, -999, -999, -999, -999, -999, -999, -999, -999, -999, -999, -999, -999, -999, -999, -999, -999, -999, -999, 1283817600, -122.803162, 17.95336, 2, 0.8, 0, 0, 0, 0, 0, 0, 0, 0, 0, 0, 0, 0, 0.01, -2.2167984056965, -4.9991, -9.9982, 0, 0]x',\n",
       " '[14, 2000, 2000, 138.363514419852, 14.7, 14.5, 0.96875, 9.1, 255, 32, 99.999, 99.99, 9.99999, 0.33995, 99, 9, 673.3955, 27.6739, 11.92794, 27.2, 101.98, 0.034, 0.2, 17.71, 1.22, 25.2, 0.4, 65, 3.2, 27, 0.05, 27.34, 104.63, 0.033, 0.48, 17.58, 0.98, 26.49, 0.3, 63, 0.7, 26.9, 0.05, 27.53, 104.64, 0.031, 0.18, 78.01, 30.35, 26.5, 0.2, 62, 0.2, 26.9, 0.05, 27.7, 120.81, 0.03, 2.15, 2000, 84.95, 33.81, 0.6, 55, 5.1, 26.9, 0.05, 27.83, 110.45, 0.029, 0.82, 1771.47, 8.41, 26.57, 1.7, 56, 1.7, 26.9, 0.05, 27.99, 107.09, 0.028, 0.44, 875.52, 9.1, 26.5, 0.2, 56, 7.2, 26.9, 0.05, 27.82, 99.06, 0.033, 2.66, 2000, 57.46, 25.98, 0.9, 72, 0.3, 27, 0.04, 27.95, 105.87, 0.03, 0.54, 2000, 3.71, 28.72, 1.1, 72, 0.4, 27, 0.04, 28.11, 103.2, 0.029, 2.01, 2000, 96.69, 23.95, 1.6, 71, 1, 27, 0.04, 28.22, 104.6, 0.029, 3.8, 2000, 9.14, 26.3, 1.3, 71, 0.4, 27, 0.05, 48.677, 20.0402144315861, 24.325, 13.2824339037556, 459.82, 158.9, -999, -999, 369.171181668208, 26.6649745611787, 465.42, 466.360824523294, 4.96000000000001, 1.47, 36.72, 31.51, -999, -999, -999, -999, -999, -999, -999, -999, -999, -999, -999, -999, -999, -999, -999, -999, -999, -999, -999, -999, -999, -999, -999, -999, 1548893286, -67.050751, 47.803467, 194, 10, 9.999, 9.99, 9.999, 9.99, 9.999, 9.99, 9.999, 9.99, 9.999, 9.99, 9.999, 9.99, 459.82, 158.9, 22.3051, 2.11914092552422, 99.9, 999.9]x',\n",
       " \"['diff(xco2_epoff,xco2_apoff,diff_epoff_apoff,umol/mol,Diff xCO2)']x\",\n",
       " \"['43.0236015319824', '43.0238990783691', '43.0237007141113', '43.0237998962402', '43.0232009887695', '43.0232009887695', '43.0232009887695', '43.0232009887695', '43.0232009887695', '43.0232009887695', '43.0232009887695', '43.0232009887695', '43.0232009887695', '43.023']x\",\n",
       " \"['-70.5432968139648', '-70.5427017211914', '-70.5419998168945', '-70.5419998168945', '-70.5419006347656', '-70.5419006347656', '-70.5419006347656', '-70.5419006347656', '-70.5419006347656', '-70.5419006347656', '-70.5419006347656', '-70.5419006347656', '-70.5419006347656', '-70.542']x\",\n",
       " \"['0014', '0014', '0014', '0014', '0014', '0014', '0014', '0014', '0014', '0014', '0014', '0014', '0014', '0014']x\",\n",
       " '2018-10-04 06:00:00x',\n",
       " '2019-01-31 03:00:00x',\n",
       " '1538612220x',\n",
       " '1548893820x',\n",
       " \"['2006-05-29 15:16:49', '2007-02-28 16:43:17', '2008-10-14 13:45:31', '2008-12-05 03:00:00', '2009-09-02 15:14:53', '2010-09-08 00:00:00', '2011-07-06 15:00:01', '2012-08-20 21:00:01', '2013-09-04 15:00:01', '2014-09-25 16:00:00', '2016-01-07 15:00:00', '2016-11-15 16:00:00', '2017-09-25 15:00:00', '2018-10-04 06:00:00']x\",\n",
       " \"['2006-11-28 00:00:00', '2008-06-13 21:00:00', '2008-11-12 15:00:00', '2009-08-01 18:00:00', '2010-08-19 03:30:00', '2011-05-05 21:00:01', '2012-06-21 18:17:00', '2013-12-29 21:00:00', '2014-07-19 21:17:00', '2015-11-17 23:30:00', '2016-09-21 21:00:00', '2017-08-28 18:00:00', '2018-08-16 15:30:00', '2019-01-31 03:00:00']x\",\n",
       " '[1148861820, 1172621820, 1223943420, 1228436220, 1251850620, 1283905020, 1309911420, 1345421820, 1378253820, 1411604220, 1452125820, 1479169020, 1506298620, 1538612220]x',\n",
       " '[1164673020, 1213316220, 1226449020, 1249085820, 1282177020, 1304554620, 1340237820, 1388276220, 1405729020, 1447719420, 1474417020, 1503879420, 1534378620, 1548893820]x',\n",
       " '[12788220, 5012220, 24797820, 29290620, 21082620, 21601020, 16071420, 20045820, 21255420, 23069820, 519420, 27562620, 23069820, 23847420]x',\n",
       " '[28599420, 14170620, 27303420, 18317820, 19873020, 10714620, 14861820, 31277820, 17194620, 27649020, 22810620, 20650620, 19613820, 2593020]x',\n",
       " '[1, 1, 1, 1, 1, 1, 1, 1, 1, 1, 1, 0, 0, 0]x',\n",
       " 'x',\n",
       " 'x']"
      ]
     },
     "execution_count": 8,
     "metadata": {},
     "output_type": "execute_result"
    }
   ],
   "source": [
    "d2"
   ]
  },
  {
   "cell_type": "code",
   "execution_count": 9,
   "metadata": {},
   "outputs": [],
   "source": [
    "params = meta['params']\n",
    "times = data['time_vals']"
   ]
  },
  {
   "cell_type": "code",
   "execution_count": 10,
   "metadata": {},
   "outputs": [],
   "source": [
    "paramsArray = np.array(params)\n",
    "sstindex = np.where(paramsArray == 'sst')[0][0]  #makes a temporary array from params dictionary\n",
    "sssindex = np.where(paramsArray == 'sal')[0][0]\n",
    "o2index = np.where(paramsArray == 'sc_o2_umolkg')[0][0]"
   ]
  },
  {
   "cell_type": "code",
   "execution_count": 11,
   "metadata": {},
   "outputs": [
    {
     "data": {
      "text/plain": [
       "14"
      ]
     },
     "execution_count": 11,
     "metadata": {},
     "output_type": "execute_result"
    }
   ],
   "source": [
    "sssindex"
   ]
  },
  {
   "cell_type": "code",
   "execution_count": 12,
   "metadata": {},
   "outputs": [
    {
     "name": "stdout",
     "output_type": "stream",
     "text": [
      "['systemnum', 'xco2seadryair', 'xco2airdryair', 'o2percent', 'logicbat', 'xbat', 'zerocoef', 'spancoef', 'spanflag', 'zeroflag', 'sst', 'stdsst', 'conduct', 'stdcond', 'sal', 'stdsal', 'ph', 'phtemp', 'phbatt', 'licortemp_zpon', 'licorpres_zpon', 'stdlicortemp_zpon', 'stdlicorpres_zpon', 'xco2_zpon', 'stdxco2_zpon', 'o2_zpon', 'stdo2_zpon', 'rh_zpon', 'stdrh_zpon', 'temp_zpon', 'stdtemp_zpon', 'licortemp_zpoff', 'licorpres_zpoff', 'stdlicortemp_zpoff', 'stdlicorpres_zpoff', 'xco2_zpoff', 'stdxco2_zpoff', 'o2_zpoff', 'stdo2_zpoff', 'rh_zpoff', 'stdrh_zpoff', 'temp_zpoff', 'stdtemp_zpoff', 'licortemp_zpcal', 'licorpres_zpcal', 'stdlicortemp_zpcal', 'stdlicorpres_zpcal', 'xco2_zpcal', 'stdxco2_zpcal', 'o2_zpcal', 'stdo2_zpcal', 'rh_zpcal', 'stdrh_zpcal', 'temp_zpcal', 'stdtemp_zpcal', 'licortemp_spon', 'licorpres_spon', 'stdlicortemp_spon', 'stdlicorpres_spon', 'xco2_spon', 'stdxco2_spon', 'o2_spon', 'stdo2_spon', 'rh_spon', 'stdrh_spon', 'temp_spon', 'stdtemp_spon', 'licortemp_spoff', 'licorpres_spoff', 'stdlicortemp_spoff', 'stdlicorpres_spoff', 'xco2_spoff', 'stdxco2_spoff', 'o2_spoff', 'stdo2_spoff', 'rh_spoff', 'stdrh_spoff', 'temp_spoff', 'stdtemp_spoff', 'licortemp_spcal', 'licorpres_spcal', 'stdlicortemp_spcal', 'stdlicorpres_spcal', 'xco2_spcal', 'stdxco2_spcal', 'o2_spcal', 'stdo2_spcal', 'rh_spcal', 'stdrh_spcal', 'temp_spcal', 'stdtemp_spcal', 'licortemp_epon', 'licorpres_epon', 'stdlicortemp_epon', 'stdlicorpres_epon', 'xco2_epon', 'stdxco2_epon', 'o2_epon', 'stdo2_epon', 'rh_epon', 'stdrh_epon', 'temp_epon', 'stdtemp_epon', 'licortemp_epoff', 'licorpres_epoff', 'stdlicortemp_epoff', 'stdlicorpres_epoff', 'xco2_epoff', 'stdxco2_epoff', 'o2_epoff', 'stdo2_epoff', 'rh_epoff', 'stdrh_epoff', 'temp_epoff', 'stdtemp_epoff', 'licortemp_apon', 'licorpres_apon', 'stdlicortemp_apon', 'stdlicorpres_apon', 'xco2_apon', 'stdxco2_apon', 'o2_apon', 'stdo2_apon', 'rh_apon', 'stdrh_apon', 'temp_apon', 'stdtemp_apon', 'licortemp_apoff', 'licorpres_apoff', 'stdlicortemp_apoff', 'stdlicorpres_apoff', 'xco2_apoff', 'stdxco2_apoff', 'o2_apoff', 'stdo2_apoff', 'rh_apoff', 'stdrh_apoff', 'temp_apoff', 'stdtemp_apoff', 'chl', 'stdchl', 'ntu', 'stdntu', 'o2', 'stdo2', 'trans', 'stdtrans', 'sc_o2_umolkg', 'sigmatheta', 'diff_xco2', 'delpco2', 'presdiffzero', 'presdiffspan', 'presdiffequil', 'presdiffair', 'sf_num_frames', 'sf_internal_ph_avg', 'sf_internal_ph_sd', 'sf_internal_ph_avg_flag', 'sf_external_ph_avg', 'sf_external_ph_sd', 'sf_temp_avg', 'sf_temp_sd', 'sf_internal_v_avg', 'sf_internal_v_sd', 'sf_external_v_avg', 'sf_external_v_sd', 'sf_thermistor_v_avg', 'sf_thermistor_v_sd', 'sf_v_supply_avg', 'sf_v_supply_sd', 'sf_i_supply_avg', 'sf_i_supply_sd', 'sf_humidity_avg', 'sf_humidity_sd', 'sf_v5v_avg', 'sf_v5v_sd', 'sf_v_iso_avg', 'sf_v_iso_sd', 'gpstime', 'gpslon', 'gpslat', 'gps_second', 'gps_quality', 'v0', 'stdv0', 'v1', 'stdv1', 'v2', 'stdv2', 'v3', 'stdv3', 'v4', 'stdv4', 'v5', 'stdv5', 'obs_o2', 'obs_o2_std', 'obs_o2_temp', 'obs_o2_temp_std', 'sbe16batt', 'sbe16curr']\n"
     ]
    },
    {
     "data": {
      "text/plain": [
       "[1283872621,\n",
       " 1283883421,\n",
       " 1283885220,\n",
       " 1283887020,\n",
       " 1283888820,\n",
       " 1283890620,\n",
       " 1283892420,\n",
       " 1283894220,\n",
       " 1283896020,\n",
       " 1283897820,\n",
       " 1283905020,\n",
       " 1283915820,\n",
       " 1283926620,\n",
       " 1283937420,\n",
       " 1283948220,\n",
       " 1283959020,\n",
       " 1283969820,\n",
       " 1283980620,\n",
       " 1283991420,\n",
       " 1284002220,\n",
       " 1284013020,\n",
       " 1284023820,\n",
       " 1284034620,\n",
       " 1284045420,\n",
       " 1284056220,\n",
       " 1284067020,\n",
       " 1284077820,\n",
       " 1284088620,\n",
       " 1284099420,\n",
       " 1284110220,\n",
       " 1284121020,\n",
       " 1284131820,\n",
       " 1284142620,\n",
       " 1284153420,\n",
       " 1284164220,\n",
       " 1284175020,\n",
       " 1284185820,\n",
       " 1284196620,\n",
       " 1284207420,\n",
       " 1284218220,\n",
       " 1284229020,\n",
       " 1284239820,\n",
       " 1284250620,\n",
       " 1284261420,\n",
       " 1284272220,\n",
       " 1284283020,\n",
       " 1284293820,\n",
       " 1284304620,\n",
       " 1284315420,\n",
       " 1284326220,\n",
       " 1284337020,\n",
       " 1284347820,\n",
       " 1284358620,\n",
       " 1284369420,\n",
       " 1284380220,\n",
       " 1284391020,\n",
       " 1284401820,\n",
       " 1284412620,\n",
       " 1284509820,\n",
       " 1284520620,\n",
       " 1284531420,\n",
       " 1284542220,\n",
       " 1284553020,\n",
       " 1284563820,\n",
       " 1284574620,\n",
       " 1284585420,\n",
       " 1284596220,\n",
       " 1284607020,\n",
       " 1284617820,\n",
       " 1284628620,\n",
       " 1284639420,\n",
       " 1284650220,\n",
       " 1284661020,\n",
       " 1284671820,\n",
       " 1284682620,\n",
       " 1284693420,\n",
       " 1284704220,\n",
       " 1284715020,\n",
       " 1284725820,\n",
       " 1284736620,\n",
       " 1284747420,\n",
       " 1284758220,\n",
       " 1284769020,\n",
       " 1284779820,\n",
       " 1284790620,\n",
       " 1284801420,\n",
       " 1284812220,\n",
       " 1284823020,\n",
       " 1284833820,\n",
       " 1284844620,\n",
       " 1284855420,\n",
       " 1284866220,\n",
       " 1284877020,\n",
       " 1284887820,\n",
       " 1284898620,\n",
       " 1284909420,\n",
       " 1284920220,\n",
       " 1284931020,\n",
       " 1284941820,\n",
       " 1284952620,\n",
       " 1284963420,\n",
       " 1284974220,\n",
       " 1284985020,\n",
       " 1284995820,\n",
       " 1285006620,\n",
       " 1285017420,\n",
       " 1285028220,\n",
       " 1285039020,\n",
       " 1285049820,\n",
       " 1285060620,\n",
       " 1285071420,\n",
       " 1285082220,\n",
       " 1285093020,\n",
       " 1285103820,\n",
       " 1285114620,\n",
       " 1285125420,\n",
       " 1285136220,\n",
       " 1285147020,\n",
       " 1285157820,\n",
       " 1285168620,\n",
       " 1285179420,\n",
       " 1285190220,\n",
       " 1285201020,\n",
       " 1285211820,\n",
       " 1285222620,\n",
       " 1285233420,\n",
       " 1285244220,\n",
       " 1285255020,\n",
       " 1285265820,\n",
       " 1285276620,\n",
       " 1285287420,\n",
       " 1285298220,\n",
       " 1285309020,\n",
       " 1285319820,\n",
       " 1285330620,\n",
       " 1285341420,\n",
       " 1285352220,\n",
       " 1285363020,\n",
       " 1285373820,\n",
       " 1285384620,\n",
       " 1285395420,\n",
       " 1285406220,\n",
       " 1285417020,\n",
       " 1285427820,\n",
       " 1285438620,\n",
       " 1285449420,\n",
       " 1285460220,\n",
       " 1285471020,\n",
       " 1285481820,\n",
       " 1285492620,\n",
       " 1285503420,\n",
       " 1285514220,\n",
       " 1285525020,\n",
       " 1285535820,\n",
       " 1285546620,\n",
       " 1285557420,\n",
       " 1285568220,\n",
       " 1285579020,\n",
       " 1285589820,\n",
       " 1285600620,\n",
       " 1285611420,\n",
       " 1285622220,\n",
       " 1285633020,\n",
       " 1285643820,\n",
       " 1285654620,\n",
       " 1285665420,\n",
       " 1285676220,\n",
       " 1285687020,\n",
       " 1285697820,\n",
       " 1285708620,\n",
       " 1285719420,\n",
       " 1285730220,\n",
       " 1285741020,\n",
       " 1285751820,\n",
       " 1285762620,\n",
       " 1285773420,\n",
       " 1285784220,\n",
       " 1285795020,\n",
       " 1285805820,\n",
       " 1285816620,\n",
       " 1285827420,\n",
       " 1285838220,\n",
       " 1285849020,\n",
       " 1285859820,\n",
       " 1285870620,\n",
       " 1285881420,\n",
       " 1285892220,\n",
       " 1285903020,\n",
       " 1285913820,\n",
       " 1285924620,\n",
       " 1285935420,\n",
       " 1285946220,\n",
       " 1285957020,\n",
       " 1285967820,\n",
       " 1285978620,\n",
       " 1285989420,\n",
       " 1286000220,\n",
       " 1286011020,\n",
       " 1286021820,\n",
       " 1286032620,\n",
       " 1286043420,\n",
       " 1286054220,\n",
       " 1286065020,\n",
       " 1286075820,\n",
       " 1286086620,\n",
       " 1286097420,\n",
       " 1286108220,\n",
       " 1286119020,\n",
       " 1286129820,\n",
       " 1286140620,\n",
       " 1286151420,\n",
       " 1286162220,\n",
       " 1286173020,\n",
       " 1286183820,\n",
       " 1286194620,\n",
       " 1286205420,\n",
       " 1286216220,\n",
       " 1286227020,\n",
       " 1286237820,\n",
       " 1286248620,\n",
       " 1286259420,\n",
       " 1286270220,\n",
       " 1286281020,\n",
       " 1286291820,\n",
       " 1286302620,\n",
       " 1286313420,\n",
       " 1286324220,\n",
       " 1286335020,\n",
       " 1286345820,\n",
       " 1286356620,\n",
       " 1286367420,\n",
       " 1286378220,\n",
       " 1286389020,\n",
       " 1286399820,\n",
       " 1286410620,\n",
       " 1286421420,\n",
       " 1286432220,\n",
       " 1286443020,\n",
       " 1286453820,\n",
       " 1286464620,\n",
       " 1286475420,\n",
       " 1286486220,\n",
       " 1286497020,\n",
       " 1286507820,\n",
       " 1286518620,\n",
       " 1286529420,\n",
       " 1286540220,\n",
       " 1286551020,\n",
       " 1286561820,\n",
       " 1286572620,\n",
       " 1286583420,\n",
       " 1286594220,\n",
       " 1286605020,\n",
       " 1286615820,\n",
       " 1286626620,\n",
       " 1286637420,\n",
       " 1286648220,\n",
       " 1286659020,\n",
       " 1286669820,\n",
       " 1286680620,\n",
       " 1286691420,\n",
       " 1286702220,\n",
       " 1286713020,\n",
       " 1286723820,\n",
       " 1286734620,\n",
       " 1286745420,\n",
       " 1286756220,\n",
       " 1286767020,\n",
       " 1286777820,\n",
       " 1286788620,\n",
       " 1286799420,\n",
       " 1286810220,\n",
       " 1286821020,\n",
       " 1286831820,\n",
       " 1286842620,\n",
       " 1286853420,\n",
       " 1286864220,\n",
       " 1286875020,\n",
       " 1286885820,\n",
       " 1286896620,\n",
       " 1286907420,\n",
       " 1286918220,\n",
       " 1286929020,\n",
       " 1286939820,\n",
       " 1286950620,\n",
       " 1286961420,\n",
       " 1286972220,\n",
       " 1286983020,\n",
       " 1286993820,\n",
       " 1287004620,\n",
       " 1287015420,\n",
       " 1287026220,\n",
       " 1287037020,\n",
       " 1287047820,\n",
       " 1287058620,\n",
       " 1287069420,\n",
       " 1287080220,\n",
       " 1287091020,\n",
       " 1287101820,\n",
       " 1287112620,\n",
       " 1287123420,\n",
       " 1287134220,\n",
       " 1287145020,\n",
       " 1287155820,\n",
       " 1287166620,\n",
       " 1287177420,\n",
       " 1287188220,\n",
       " 1287199020,\n",
       " 1287209820,\n",
       " 1287220620,\n",
       " 1287231420,\n",
       " 1287242220,\n",
       " 1287253020,\n",
       " 1287263820,\n",
       " 1287274620,\n",
       " 1287285420,\n",
       " 1287296220,\n",
       " 1287307020,\n",
       " 1287317820,\n",
       " 1287328620,\n",
       " 1287339420,\n",
       " 1287350220,\n",
       " 1287361020,\n",
       " 1287371820,\n",
       " 1287382620,\n",
       " 1287393420,\n",
       " 1287404220,\n",
       " 1287415020,\n",
       " 1287425820,\n",
       " 1287436620,\n",
       " 1287447420,\n",
       " 1287458220,\n",
       " 1287469020,\n",
       " 1287479820,\n",
       " 1287490620,\n",
       " 1287501420,\n",
       " 1287512220,\n",
       " 1287523020,\n",
       " 1287533820,\n",
       " 1287544620,\n",
       " 1287555420,\n",
       " 1287566220,\n",
       " 1287577020,\n",
       " 1287587820,\n",
       " 1287598620,\n",
       " 1287609420,\n",
       " 1287620220,\n",
       " 1287631020,\n",
       " 1287641820,\n",
       " 1287652620,\n",
       " 1287663420,\n",
       " 1287674220,\n",
       " 1287685020,\n",
       " 1287695820,\n",
       " 1287706620,\n",
       " 1287717420,\n",
       " 1287728220,\n",
       " 1287739020,\n",
       " 1287749820,\n",
       " 1287760620,\n",
       " 1287771420,\n",
       " 1287782220,\n",
       " 1287793020,\n",
       " 1287803820,\n",
       " 1287814620,\n",
       " 1287825420,\n",
       " 1287836220,\n",
       " 1287847020,\n",
       " 1287857820,\n",
       " 1287868620,\n",
       " 1287879420,\n",
       " 1287890220,\n",
       " 1287901020,\n",
       " 1287911820,\n",
       " 1287922620,\n",
       " 1287933420,\n",
       " 1287944220,\n",
       " 1287955020,\n",
       " 1287965820,\n",
       " 1287976620,\n",
       " 1287987420,\n",
       " 1287998220,\n",
       " 1288009020,\n",
       " 1288019820,\n",
       " 1288030620,\n",
       " 1288041420,\n",
       " 1288052220,\n",
       " 1288063020,\n",
       " 1288073820,\n",
       " 1288084620,\n",
       " 1288095420,\n",
       " 1288106220,\n",
       " 1288117020,\n",
       " 1288127820,\n",
       " 1288138620,\n",
       " 1288149420,\n",
       " 1288160220,\n",
       " 1288171020,\n",
       " 1288181820,\n",
       " 1288192620,\n",
       " 1288203420,\n",
       " 1288214220,\n",
       " 1288225020,\n",
       " 1288235820,\n",
       " 1288246620,\n",
       " 1288257420,\n",
       " 1288268220,\n",
       " 1288279020,\n",
       " 1288289820,\n",
       " 1288300620,\n",
       " 1288311420,\n",
       " 1288322220,\n",
       " 1288333020,\n",
       " 1288343820,\n",
       " 1288354620,\n",
       " 1288365420,\n",
       " 1288376220,\n",
       " 1288387020,\n",
       " 1288397820,\n",
       " 1288408620,\n",
       " 1288419420,\n",
       " 1288430220,\n",
       " 1288441020,\n",
       " 1288451820,\n",
       " 1288462620,\n",
       " 1288473420,\n",
       " 1288484220,\n",
       " 1288495020,\n",
       " 1288505820,\n",
       " 1288516620,\n",
       " 1288527420,\n",
       " 1288538220,\n",
       " 1288549020,\n",
       " 1288559820,\n",
       " 1288570620,\n",
       " 1288581420,\n",
       " 1288592220,\n",
       " 1288603020,\n",
       " 1288613820,\n",
       " 1288624620,\n",
       " 1288635420,\n",
       " 1288646220,\n",
       " 1288657020,\n",
       " 1288667820,\n",
       " 1288678620,\n",
       " 1288689420,\n",
       " 1288700220,\n",
       " 1288711020,\n",
       " 1288721820,\n",
       " 1288732620,\n",
       " 1288743420,\n",
       " 1288754220,\n",
       " 1288765020,\n",
       " 1288775820,\n",
       " 1288786620,\n",
       " 1288797420,\n",
       " 1288808220,\n",
       " 1288819020,\n",
       " 1288829820,\n",
       " 1288840620,\n",
       " 1288851420,\n",
       " 1288862220,\n",
       " 1288873020,\n",
       " 1288883820,\n",
       " 1288894620,\n",
       " 1288905420,\n",
       " 1288916220,\n",
       " 1288927020,\n",
       " 1288937820,\n",
       " 1288948620,\n",
       " 1288959420,\n",
       " 1288970220,\n",
       " 1288981020,\n",
       " 1288991820,\n",
       " 1289002620,\n",
       " 1289013420,\n",
       " 1289024220,\n",
       " 1289035020,\n",
       " 1289045820,\n",
       " 1289056620,\n",
       " 1289067420,\n",
       " 1289078220,\n",
       " 1289089020,\n",
       " 1289099820,\n",
       " 1289110620,\n",
       " 1289121420,\n",
       " 1289132220,\n",
       " 1289143020,\n",
       " 1289153820,\n",
       " 1289164620,\n",
       " 1289175420,\n",
       " 1289186220,\n",
       " 1289197020,\n",
       " 1289207820,\n",
       " 1289218620,\n",
       " 1289229420,\n",
       " 1289240220,\n",
       " 1289251020,\n",
       " 1289261820,\n",
       " 1289272620,\n",
       " 1289283420,\n",
       " 1289294220,\n",
       " 1289305020,\n",
       " 1289315820,\n",
       " 1289326620,\n",
       " 1289337420,\n",
       " 1289348220,\n",
       " 1289359020,\n",
       " 1289369820,\n",
       " 1289380620,\n",
       " 1289391420,\n",
       " 1289402220,\n",
       " 1289413020,\n",
       " 1289423820,\n",
       " 1289434620,\n",
       " 1289445420,\n",
       " 1289456220,\n",
       " 1289467020,\n",
       " 1289477820,\n",
       " 1289488620,\n",
       " 1289499420,\n",
       " 1289510220,\n",
       " 1289521020,\n",
       " 1289531820,\n",
       " 1289542620,\n",
       " 1289553420,\n",
       " 1289564220,\n",
       " 1289575020,\n",
       " 1289585820,\n",
       " 1289596620,\n",
       " 1289607420,\n",
       " 1289618220,\n",
       " 1289629020,\n",
       " 1289639820,\n",
       " 1289650620,\n",
       " 1289661420,\n",
       " 1289672220,\n",
       " 1289683020,\n",
       " 1289693820,\n",
       " 1289704620,\n",
       " 1289715420,\n",
       " 1289726220,\n",
       " 1289737020,\n",
       " 1289747820,\n",
       " 1289758620,\n",
       " 1289769420,\n",
       " 1289780220,\n",
       " 1289791020,\n",
       " 1289801820,\n",
       " 1289812620,\n",
       " 1289823420,\n",
       " 1289834220,\n",
       " 1289845020,\n",
       " 1289855820,\n",
       " 1289866620,\n",
       " 1289877420,\n",
       " 1289888220,\n",
       " 1289899020,\n",
       " 1289909820,\n",
       " 1289920620,\n",
       " 1289931420,\n",
       " 1289942220,\n",
       " 1289953020,\n",
       " 1289963820,\n",
       " 1289974620,\n",
       " 1289985420,\n",
       " 1289996220,\n",
       " 1290007020,\n",
       " 1290017820,\n",
       " 1290028620,\n",
       " 1290039420,\n",
       " 1290050220,\n",
       " 1290061020,\n",
       " 1290071820,\n",
       " 1290082620,\n",
       " 1290093420,\n",
       " 1290104220,\n",
       " 1290115020,\n",
       " 1290125820,\n",
       " 1290136620,\n",
       " 1290147420,\n",
       " 1290158220,\n",
       " 1290169020,\n",
       " 1290179820,\n",
       " 1290190620,\n",
       " 1290201420,\n",
       " 1290212220,\n",
       " 1290223020,\n",
       " 1290233820,\n",
       " 1290244620,\n",
       " 1290255420,\n",
       " 1290266220,\n",
       " 1290277020,\n",
       " 1290287820,\n",
       " 1290298620,\n",
       " 1290309420,\n",
       " 1290320220,\n",
       " 1290331020,\n",
       " 1290341820,\n",
       " 1290352620,\n",
       " 1290363420,\n",
       " 1290374220,\n",
       " 1290385020,\n",
       " 1290395820,\n",
       " 1290406620,\n",
       " 1290417420,\n",
       " 1290428220,\n",
       " 1290439020,\n",
       " 1290449820,\n",
       " 1290460620,\n",
       " 1290471420,\n",
       " 1290482220,\n",
       " 1290493020,\n",
       " 1290503820,\n",
       " 1290514620,\n",
       " 1290525420,\n",
       " 1290536220,\n",
       " 1290547020,\n",
       " 1290557820,\n",
       " 1290568620,\n",
       " 1290579420,\n",
       " 1290590220,\n",
       " 1290601020,\n",
       " 1290611820,\n",
       " 1290622620,\n",
       " 1290633420,\n",
       " 1290644220,\n",
       " 1290655020,\n",
       " 1290665820,\n",
       " 1290676620,\n",
       " 1290687420,\n",
       " 1290698220,\n",
       " 1290709020,\n",
       " 1290719820,\n",
       " 1290730620,\n",
       " 1290741420,\n",
       " 1290752220,\n",
       " 1290763020,\n",
       " 1290773820,\n",
       " 1290784620,\n",
       " 1290795420,\n",
       " 1290806220,\n",
       " 1290817020,\n",
       " 1290827820,\n",
       " 1290838620,\n",
       " 1290849420,\n",
       " 1290860220,\n",
       " 1290871020,\n",
       " 1290881820,\n",
       " 1290892620,\n",
       " 1290903420,\n",
       " 1290914220,\n",
       " 1290925020,\n",
       " 1290935820,\n",
       " 1290946620,\n",
       " 1290957420,\n",
       " 1290968220,\n",
       " 1290979020,\n",
       " 1290989820,\n",
       " 1291000620,\n",
       " 1291011420,\n",
       " 1291022220,\n",
       " 1291033020,\n",
       " 1291043820,\n",
       " 1291054620,\n",
       " 1291065420,\n",
       " 1291076220,\n",
       " 1291087020,\n",
       " 1291097820,\n",
       " 1291108620,\n",
       " 1291119420,\n",
       " 1291130220,\n",
       " 1291141020,\n",
       " 1291151820,\n",
       " 1291162620,\n",
       " 1291173420,\n",
       " 1291184220,\n",
       " 1291195020,\n",
       " 1291205820,\n",
       " 1291216620,\n",
       " 1291227420,\n",
       " 1291238220,\n",
       " 1291335420,\n",
       " 1291346220,\n",
       " 1291357020,\n",
       " 1291367820,\n",
       " 1291378620,\n",
       " 1291389420,\n",
       " 1291400220,\n",
       " 1291411020,\n",
       " 1291421820,\n",
       " 1291432620,\n",
       " 1291443420,\n",
       " 1291454220,\n",
       " 1291465020,\n",
       " 1291475820,\n",
       " 1291486620,\n",
       " 1291497420,\n",
       " 1291508220,\n",
       " 1291519020,\n",
       " 1291529820,\n",
       " 1291540620,\n",
       " 1291551420,\n",
       " 1291562220,\n",
       " 1291573020,\n",
       " 1291583820,\n",
       " 1291594620,\n",
       " 1291605420,\n",
       " 1291616220,\n",
       " 1291627020,\n",
       " 1291637820,\n",
       " 1291648620,\n",
       " 1291659420,\n",
       " 1291670220,\n",
       " 1291681020,\n",
       " 1291691820,\n",
       " 1291702620,\n",
       " 1291713420,\n",
       " 1291724220,\n",
       " 1291735020,\n",
       " 1291745820,\n",
       " 1291756620,\n",
       " 1291767420,\n",
       " 1291778220,\n",
       " 1291789020,\n",
       " 1291799820,\n",
       " 1291810620,\n",
       " 1291821420,\n",
       " 1291832220,\n",
       " 1291843020,\n",
       " 1291853820,\n",
       " 1291864620,\n",
       " 1291875420,\n",
       " 1291886220,\n",
       " 1291897020,\n",
       " 1291907820,\n",
       " 1291918620,\n",
       " 1291929420,\n",
       " 1291940220,\n",
       " 1291951020,\n",
       " 1291961820,\n",
       " 1291972620,\n",
       " 1291983420,\n",
       " 1291994220,\n",
       " 1292005020,\n",
       " 1292015820,\n",
       " 1292026620,\n",
       " 1292037420,\n",
       " 1292048220,\n",
       " 1292059020,\n",
       " 1292069820,\n",
       " 1292080620,\n",
       " 1292091420,\n",
       " 1292102220,\n",
       " 1292113020,\n",
       " 1292123820,\n",
       " 1292134620,\n",
       " 1292145420,\n",
       " 1292156220,\n",
       " 1292167020,\n",
       " 1292177820,\n",
       " 1292188620,\n",
       " 1292199420,\n",
       " 1292210220,\n",
       " 1292221020,\n",
       " 1292231820,\n",
       " 1292242620,\n",
       " 1292253420,\n",
       " 1292264220,\n",
       " 1292275020,\n",
       " 1292285820,\n",
       " 1292296620,\n",
       " 1292307420,\n",
       " 1292318220,\n",
       " 1292329020,\n",
       " 1292339820,\n",
       " 1292350620,\n",
       " 1292361420,\n",
       " 1292372220,\n",
       " 1292383020,\n",
       " 1292393820,\n",
       " 1292404620,\n",
       " 1292415420,\n",
       " 1292426220,\n",
       " 1292437020,\n",
       " 1292447820,\n",
       " 1292458620,\n",
       " 1292469420,\n",
       " 1292480220,\n",
       " 1292491020,\n",
       " 1292501820,\n",
       " 1292512620,\n",
       " 1292523420,\n",
       " 1292534220,\n",
       " 1292545020,\n",
       " 1292555820,\n",
       " 1292566620,\n",
       " 1292577420,\n",
       " 1292588220,\n",
       " 1292599020,\n",
       " 1292609820,\n",
       " 1292620620,\n",
       " 1292631420,\n",
       " 1292642220,\n",
       " 1292653020,\n",
       " 1292663820,\n",
       " 1292674620,\n",
       " 1292685420,\n",
       " 1292696220,\n",
       " 1292707020,\n",
       " 1292717820,\n",
       " 1292728620,\n",
       " 1292739420,\n",
       " 1292750220,\n",
       " 1292761020,\n",
       " 1292771820,\n",
       " 1292782620,\n",
       " 1292793420,\n",
       " 1292804220,\n",
       " 1292815020,\n",
       " 1292825820,\n",
       " 1292836620,\n",
       " 1292847420,\n",
       " 1292858220,\n",
       " 1292869020,\n",
       " 1292879820,\n",
       " 1292890620,\n",
       " 1292901420,\n",
       " 1292912220,\n",
       " 1292923020,\n",
       " 1292933820,\n",
       " 1292944620,\n",
       " 1292955420,\n",
       " 1292966220,\n",
       " 1292977020,\n",
       " 1292987820,\n",
       " 1292998620,\n",
       " 1293009420,\n",
       " 1293020220,\n",
       " 1293031020,\n",
       " 1293041820,\n",
       " 1293052620,\n",
       " 1293063420,\n",
       " 1293074220,\n",
       " 1293085020,\n",
       " 1293095820,\n",
       " 1293106620,\n",
       " 1293117420,\n",
       " 1293128220,\n",
       " 1293139020,\n",
       " 1293149820,\n",
       " 1293160620,\n",
       " 1293171420,\n",
       " 1293182220,\n",
       " 1293193020,\n",
       " 1293203820,\n",
       " 1293214620,\n",
       " 1293225420,\n",
       " 1293236220,\n",
       " 1293247020,\n",
       " 1293257820,\n",
       " 1293268620,\n",
       " 1293279420,\n",
       " 1293290220,\n",
       " 1293301020,\n",
       " 1293311820,\n",
       " 1293322620,\n",
       " 1293333420,\n",
       " 1293344220,\n",
       " 1293355020,\n",
       " 1293365820,\n",
       " 1293376620,\n",
       " 1293387420,\n",
       " 1293398220,\n",
       " 1293409020,\n",
       " 1293419820,\n",
       " 1293430620,\n",
       " 1293441420,\n",
       " 1293452220,\n",
       " 1293463020,\n",
       " 1293473820,\n",
       " 1293484620,\n",
       " 1293495420,\n",
       " 1293506220,\n",
       " 1293517020,\n",
       " 1293527820,\n",
       " 1293538620,\n",
       " 1293549420,\n",
       " 1293560220,\n",
       " 1293571020,\n",
       " 1293581820,\n",
       " 1293592620,\n",
       " 1293603420,\n",
       " 1293614220,\n",
       " 1293625020,\n",
       " 1293635820,\n",
       " 1293646620,\n",
       " 1293657420,\n",
       " 1293668220,\n",
       " 1293679020,\n",
       " 1293689820,\n",
       " 1293700620,\n",
       " 1293711420,\n",
       " 1293722220,\n",
       " 1293733020,\n",
       " 1293743820,\n",
       " 1293754620,\n",
       " 1293765420,\n",
       " 1293776220,\n",
       " 1293787020,\n",
       " 1293797820,\n",
       " 1293808620,\n",
       " 1293819420,\n",
       " 1293830220,\n",
       " 1293841020,\n",
       " 1293851820,\n",
       " 1293862620,\n",
       " 1293873420,\n",
       " 1293884220,\n",
       " 1293895020,\n",
       " 1293905820,\n",
       " 1293916620,\n",
       " 1293927420,\n",
       " 1293938220,\n",
       " 1293949020,\n",
       " 1293959820,\n",
       " 1293970620,\n",
       " 1293981420,\n",
       " 1293992220,\n",
       " 1294003020,\n",
       " 1294013820,\n",
       " 1294024620,\n",
       " 1294035420,\n",
       " 1294046220,\n",
       " 1294057020,\n",
       " 1294067820,\n",
       " 1294078620,\n",
       " 1294089420,\n",
       " 1294100220,\n",
       " 1294111020,\n",
       " 1294121820,\n",
       " 1294132620,\n",
       " 1294143420,\n",
       " 1294154220,\n",
       " 1294165020,\n",
       " 1294175820,\n",
       " 1294186620,\n",
       " 1294197420,\n",
       " 1294208220,\n",
       " 1294219020,\n",
       " 1294229820,\n",
       " 1294240620,\n",
       " 1294251420,\n",
       " 1294262220,\n",
       " 1294273020,\n",
       " 1294283820,\n",
       " 1294294620,\n",
       " 1294305420,\n",
       " 1294316220,\n",
       " 1294327020,\n",
       " 1294337820,\n",
       " 1294348620,\n",
       " 1294359420,\n",
       " 1294370220,\n",
       " 1294381020,\n",
       " 1294391820,\n",
       " 1294402620,\n",
       " 1294413420,\n",
       " 1294424220,\n",
       " 1294435020,\n",
       " 1294445820,\n",
       " 1294456620,\n",
       " 1294467420,\n",
       " 1294478220,\n",
       " 1294489020,\n",
       " 1294499820,\n",
       " 1294510620,\n",
       " 1294521420,\n",
       " 1294532220,\n",
       " 1294543020,\n",
       " 1294553820,\n",
       " 1294564620,\n",
       " 1294575420,\n",
       " 1294586220,\n",
       " 1294597020,\n",
       " 1294607820,\n",
       " 1294618620,\n",
       " 1294629420,\n",
       " 1294640220,\n",
       " 1294651020,\n",
       " 1294661820,\n",
       " 1294672620,\n",
       " 1294683420,\n",
       " 1294694220,\n",
       " 1294705020,\n",
       " 1294715820,\n",
       " 1294726620,\n",
       " 1294737420,\n",
       " 1294748220,\n",
       " 1294759020,\n",
       " ...]"
      ]
     },
     "execution_count": 12,
     "metadata": {},
     "output_type": "execute_result"
    }
   ],
   "source": [
    "print(params)\n",
    "times"
   ]
  },
  {
   "cell_type": "code",
   "execution_count": 13,
   "metadata": {},
   "outputs": [],
   "source": [
    "all_vals = data['obs_vals']"
   ]
  },
  {
   "cell_type": "code",
   "execution_count": 14,
   "metadata": {},
   "outputs": [],
   "source": [
    "obs_vals = data['obs_vals']\n",
    "sst = obs_vals[str(sstindex)]\n",
    "sals = obs_vals[str(sssindex)]\n",
    "#pd.to_datetime(papa_df_m['Date']+ ' ' + papa_df_m['Time'])"
   ]
  },
  {
   "cell_type": "code",
   "execution_count": 15,
   "metadata": {},
   "outputs": [],
   "source": [
    "sst = np.array(sst)\n",
    "sst[np.where(sst==-999)] = np.nan\n",
    "sst[np.where(sst==-99)] = np.nan\n",
    "sals = np.array(sals)\n",
    "sals[np.where(sals==-999)] = np.nan\n",
    "sals[np.where(sals==-99)] = np.nan"
   ]
  },
  {
   "cell_type": "code",
   "execution_count": 16,
   "metadata": {},
   "outputs": [
    {
     "data": {
      "text/plain": [
       "[<matplotlib.lines.Line2D at 0x1a2b757860>]"
      ]
     },
     "execution_count": 16,
     "metadata": {},
     "output_type": "execute_result"
    },
    {
     "data": {
      "image/png": "[encoded data removed]",
      "text/plain": [
       "<Figure size 432x288 with 1 Axes>"
      ]
     },
     "metadata": {
      "needs_background": "light"
     },
     "output_type": "display_data"
    }
   ],
   "source": [
    "plt.plot(times, sals)"
   ]
  },
  {
   "cell_type": "code",
   "execution_count": 17,
   "metadata": {},
   "outputs": [],
   "source": [
    "realtimes = np.array(times, dtype='datetime64[s]')"
   ]
  },
  {
   "cell_type": "code",
   "execution_count": 18,
   "metadata": {},
   "outputs": [
    {
     "data": {
      "text/plain": [
       "array(['2010-09-07T15:17:01', '2010-09-07T18:17:01',\n",
       "       '2010-09-07T18:47:00', ..., '2019-01-30T21:17:00',\n",
       "       '2019-01-31T00:17:00', '2019-01-31T03:17:00'],\n",
       "      dtype='datetime64[s]')"
      ]
     },
     "execution_count": 18,
     "metadata": {},
     "output_type": "execute_result"
    }
   ],
   "source": [
    "realtimes"
   ]
  },
  {
   "cell_type": "code",
   "execution_count": 19,
   "metadata": {},
   "outputs": [
    {
     "data": {
      "text/plain": [
       "[<matplotlib.lines.Line2D at 0x1a2b8d8550>]"
      ]
     },
     "execution_count": 19,
     "metadata": {},
     "output_type": "execute_result"
    },
    {
     "data": {
      "image/png": "[encoded data removed]",
      "text/plain": [
       "<Figure size 432x288 with 1 Axes>"
      ]
     },
     "metadata": {
      "needs_background": "light"
     },
     "output_type": "display_data"
    }
   ],
   "source": [
    "plt.plot(realtimes, sals)"
   ]
  },
  {
   "cell_type": "code",
   "execution_count": 20,
   "metadata": {},
   "outputs": [],
   "source": [
    "#getting indices to do slicing\n",
    "deplyIndices = np.where((realtimes > np.datetime64('2010-09-06')) &  (realtimes < np.datetime64('2011-05-04')))"
   ]
  },
  {
   "cell_type": "code",
   "execution_count": 21,
   "metadata": {},
   "outputs": [
    {
     "data": {
      "text/plain": [
       "(1896,)"
      ]
     },
     "execution_count": 21,
     "metadata": {},
     "output_type": "execute_result"
    }
   ],
   "source": [
    "# do the time slicing\n",
    "dTimes = realtimes[deplyIndices]\n",
    "dTimes.shape"
   ]
  },
  {
   "cell_type": "code",
   "execution_count": 22,
   "metadata": {},
   "outputs": [
    {
     "data": {
      "text/plain": [
       "(1896,)"
      ]
     },
     "execution_count": 22,
     "metadata": {},
     "output_type": "execute_result"
    }
   ],
   "source": [
    "#data slicing\n",
    "dSST = sst[deplyIndices]\n",
    "dSSS = sals[deplyIndices]\n",
    "dSSS.shape"
   ]
  },
  {
   "cell_type": "code",
   "execution_count": 23,
   "metadata": {},
   "outputs": [
    {
     "data": {
      "text/plain": [
       "[<matplotlib.lines.Line2D at 0x1a2ba6a7f0>]"
      ]
     },
     "execution_count": 23,
     "metadata": {},
     "output_type": "execute_result"
    },
    {
     "data": {
      "image/png": "[encoded data removed]",
      "text/plain": [
       "<Figure size 432x288 with 1 Axes>"
      ]
     },
     "metadata": {
      "needs_background": "light"
     },
     "output_type": "display_data"
    }
   ],
   "source": [
    "#plot sliced times/data\n",
    "plt.plot(dTimes, dSSS)"
   ]
  },
  {
   "cell_type": "code",
   "execution_count": 24,
   "metadata": {},
   "outputs": [],
   "source": [
    "def outlierDetector(timeArray, data, flags, minWindowN=4, windowInDays=1):\n",
    "    if data.ndim != 1 or timeArray.ndim != 1 or flags.ndim != 1:\n",
    "        raise ValueError(\"Inputs must be 1D\")\n",
    "    variances = np.zeros_like(data)\n",
    "    \n",
    "    if windowInDays != 'all':\n",
    "        deltaTime = np.timedelta64(windowInDays, 'D')\n",
    "    windowsN = np.zeros_like(data, dtype=np.int)\n",
    "    means = np.zeros_like(data)\n",
    "    numDevs = np.zeros_like(data)\n",
    "\n",
    "    for indx,time in enumerate(timeArray):\n",
    "        if (flags[indx] == 4) or (flags[indx] == 9):\n",
    "            numDevs[indx] = np.nan\n",
    "            continue\n",
    "\n",
    "        if windowInDays == 'all':\n",
    "            window = np.arange(timeArray.size)\n",
    "        else:\n",
    "            window = np.where((timeArray > time-deltaTime) &  (timeArray < time+deltaTime) &\n",
    "                              (timeArray != time) & (flags != 4))[0]\n",
    "        windowsN[indx] = window.size\n",
    "        if windowsN[indx] < minWindowN:\n",
    "            flags[indx] = 9\n",
    "            numDevs[indx] = np.nan\n",
    "            continue\n",
    "        iQRange = iqr(data[window], nan_policy='omit')\n",
    "        variances[indx] = (3/4) * iQRange\n",
    "#         variances[indx] = np.nanvar(data[window])\n",
    "        means[indx] = np.nanmean(data[window])\n",
    "        numDevs[indx] = (data[indx] - means[indx])/np.sqrt(variances[indx])\n",
    "    return numDevs, flags"
   ]
  },
  {
   "cell_type": "code",
   "execution_count": 37,
   "metadata": {},
   "outputs": [],
   "source": [
    "def outlierRemoval(timeArray, data, windowInDays=1, minWindowN=4, numStdDevs=5, maxIterations=None, flags=None):\n",
    "    # create the flags array\n",
    "#     set_trace()\n",
    "    if flags is None:\n",
    "        flags = np.zeros_like(data, dtype=np.int) + 2\n",
    "    \n",
    "    # detect firs outlier\n",
    "    print(np.where(flags != 2)[0].size)\n",
    "    numDevs,flags = outlierDetector(timeArray, data, flags, minWindowN=minWindowN, windowInDays=windowInDays)\n",
    "    cnt = 0\n",
    "    if (maxIterations is None):\n",
    "        maxIterations = data.size\n",
    "    while ((np.nanmax(np.abs(numDevs)) > numStdDevs) and (cnt < maxIterations)):\n",
    "        print(cnt)\n",
    "        print(np.where(flags != 2)[0].size)\n",
    "        flags[np.where(np.abs(numDevs) == np.nanmax(np.abs(numDevs)))] = 4\n",
    "\n",
    "        numDevs,flags = outlierDetector(timeArray, data, flags, minWindowN=minWindowN, windowInDays=windowInDays)\n",
    "\n",
    "        plt.plot(timeArray, numDevs)\n",
    "        cnt += 1\n",
    "    return flags, numDevs\n",
    "    "
   ]
  },
  {
   "cell_type": "code",
   "execution_count": 38,
   "metadata": {},
   "outputs": [
    {
     "name": "stdout",
     "output_type": "stream",
     "text": [
      "0\n",
      "0\n",
      "0\n",
      "1\n",
      "5\n"
     ]
    },
    {
     "data": {
      "image/png": "[encoded data removed]",
      "text/plain": [
       "<Figure size 432x288 with 1 Axes>"
      ]
     },
     "metadata": {
      "needs_background": "light"
     },
     "output_type": "display_data"
    }
   ],
   "source": [
    "# global flagging\n",
    "sssflags, sssNumDevs = outlierRemoval(dTimes, dSSS, windowInDays='all')"
   ]
  },
  {
   "cell_type": "code",
   "execution_count": 39,
   "metadata": {},
   "outputs": [
    {
     "name": "stdout",
     "output_type": "stream",
     "text": [
      "7\n"
     ]
    }
   ],
   "source": [
    "sssflags, sssNumDevs = outlierRemoval(dTimes, dSSS, windowInDays=1, flags=sssflags)\n"
   ]
  },
  {
   "cell_type": "code",
   "execution_count": 41,
   "metadata": {},
   "outputs": [
    {
     "data": {
      "text/plain": [
       "[<matplotlib.lines.Line2D at 0x1a2cfc2ba8>]"
      ]
     },
     "execution_count": 41,
     "metadata": {},
     "output_type": "execute_result"
    },
    {
     "data": {
      "image/png": "[encoded data removed]",
      "text/plain": [
       "<Figure size 432x288 with 1 Axes>"
      ]
     },
     "metadata": {
      "needs_background": "light"
     },
     "output_type": "display_data"
    }
   ],
   "source": [
    "\n",
    "plt.plot(dTimes, sssflags)\n"
   ]
  },
  {
   "cell_type": "code",
   "execution_count": 42,
   "metadata": {},
   "outputs": [
    {
     "data": {
      "image/png": "[encoded data removed]",
      "text/plain": [
       "<Figure size 432x288 with 1 Axes>"
      ]
     },
     "metadata": {
      "needs_background": "light"
     },
     "output_type": "display_data"
    }
   ],
   "source": [
    "plt.ylim(29,33)\n",
    "plt.plot(dTimes, dSSS)\n",
    "plt.show()"
   ]
  },
  {
   "cell_type": "code",
   "execution_count": 29,
   "metadata": {},
   "outputs": [
    {
     "name": "stdout",
     "output_type": "stream",
     "text": [
      "[ 0.     0.    99.    31.516 99.    31.515 31.514 99.    31.502 31.503\n",
      " 99.    31.561 31.59  31.557 31.551 31.518 31.55  31.53  31.532 31.541]\n",
      "[4 4 4 2 4 2 2 4 2 2 4 2 2 2 2 2 2 2 2 2]\n"
     ]
    }
   ],
   "source": [
    "print(dSSS[0:20])\n",
    "print(sssflags[0:20])"
   ]
  },
  {
   "cell_type": "code",
   "execution_count": 30,
   "metadata": {},
   "outputs": [
    {
     "data": {
      "text/plain": [
       "[<matplotlib.lines.Line2D at 0x1a2be3e0b8>]"
      ]
     },
     "execution_count": 30,
     "metadata": {},
     "output_type": "execute_result"
    },
    {
     "data": {
      "image/png": "[encoded data removed]",
      "text/plain": [
       "<Figure size 432x288 with 1 Axes>"
      ]
     },
     "metadata": {
      "needs_background": "light"
     },
     "output_type": "display_data"
    }
   ],
   "source": [
    "temp = np.copy(dSSS)\n",
    "temp[np.where(sssflags!=2)] = np.nan\n",
    "plt.plot(dTimes, temp)"
   ]
  },
  {
   "cell_type": "code",
   "execution_count": null,
   "metadata": {},
   "outputs": [],
   "source": []
  },
  {
   "cell_type": "code",
   "execution_count": 31,
   "metadata": {},
   "outputs": [
    {
     "name": "stdout",
     "output_type": "stream",
     "text": [
      "[4 4 4 2 4 2 2 4 2 2 4 2 2 2 2 2 2 2 2 2]\n"
     ]
    }
   ],
   "source": [
    "print(sssflags[0:20])"
   ]
  },
  {
   "cell_type": "code",
   "execution_count": 43,
   "metadata": {},
   "outputs": [
    {
     "name": "stdout",
     "output_type": "stream",
     "text": [
      "0\n",
      "0\n",
      "0\n",
      "1\n",
      "5\n",
      "2\n",
      "165\n",
      "3\n",
      "166\n",
      "4\n",
      "167\n",
      "5\n",
      "168\n",
      "6\n",
      "169\n",
      "7\n",
      "170\n",
      "8\n",
      "171\n",
      "9\n",
      "172\n"
     ]
    },
    {
     "data": {
      "image/png": "[encoded data removed]",
      "text/plain": [
       "<Figure size 432x288 with 1 Axes>"
      ]
     },
     "metadata": {
      "needs_background": "light"
     },
     "output_type": "display_data"
    }
   ],
   "source": [
    "allsssflags, allsssNumDevs = outlierRemoval(realtimes, sals, 'all', maxIterations=None)"
   ]
  },
  {
   "cell_type": "code",
   "execution_count": 44,
   "metadata": {},
   "outputs": [
    {
     "data": {
      "text/plain": [
       "[<matplotlib.lines.Line2D at 0x1a2bc9d198>]"
      ]
     },
     "execution_count": 44,
     "metadata": {},
     "output_type": "execute_result"
    },
    {
     "data": {
      "image/png": "[encoded data removed]",
      "text/plain": [
       "<Figure size 432x288 with 1 Axes>"
      ]
     },
     "metadata": {
      "needs_background": "light"
     },
     "output_type": "display_data"
    }
   ],
   "source": [
    "temp = np.copy(sals)\n",
    "temp[np.where(allsssflags!=2)] = np.nan\n",
    "plt.plot(realtimes, temp)"
   ]
  },
  {
   "cell_type": "code",
   "execution_count": 45,
   "metadata": {},
   "outputs": [
    {
     "name": "stdout",
     "output_type": "stream",
     "text": [
      "173\n"
     ]
    },
    {
     "name": "stderr",
     "output_type": "stream",
     "text": [
      "/Users/oz/Miniconda/miniconda3/envs/oceanatlas/lib/python3.7/site-packages/ipykernel_launcher.py:30: RuntimeWarning: Mean of empty slice\n",
      "/Users/oz/Miniconda/miniconda3/envs/oceanatlas/lib/python3.7/site-packages/ipykernel_launcher.py:31: RuntimeWarning: divide by zero encountered in double_scalars\n"
     ]
    },
    {
     "name": "stdout",
     "output_type": "stream",
     "text": [
      "0\n",
      "173\n",
      "1\n",
      "175\n",
      "2\n",
      "177\n",
      "3\n",
      "178\n",
      "4\n",
      "179\n",
      "5\n",
      "180\n",
      "6\n",
      "181\n",
      "7\n",
      "182\n",
      "8\n",
      "183\n",
      "9\n",
      "184\n",
      "10\n",
      "185\n",
      "11\n",
      "186\n",
      "12\n",
      "187\n",
      "13\n",
      "188\n",
      "14\n",
      "189\n",
      "15\n",
      "190\n",
      "16\n",
      "191\n"
     ]
    },
    {
     "data": {
      "image/png": "[encoded data removed]",
      "text/plain": [
       "<Figure size 432x288 with 1 Axes>"
      ]
     },
     "metadata": {
      "needs_background": "light"
     },
     "output_type": "display_data"
    }
   ],
   "source": [
    "#this is the local spike detection on one day window on either side of data point\n",
    "allsssflags, allsssNumDevs = outlierRemoval(realtimes, sals, windowInDays=1, flags=allsssflags)\n"
   ]
  },
  {
   "cell_type": "code",
   "execution_count": 46,
   "metadata": {},
   "outputs": [
    {
     "data": {
      "text/plain": [
       "[<matplotlib.lines.Line2D at 0x1a2c268b38>]"
      ]
     },
     "execution_count": 46,
     "metadata": {},
     "output_type": "execute_result"
    },
    {
     "data": {
      "image/png": "[encoded data removed]",
      "text/plain": [
       "<Figure size 432x288 with 1 Axes>"
      ]
     },
     "metadata": {
      "needs_background": "light"
     },
     "output_type": "display_data"
    }
   ],
   "source": [
    "temp = np.copy(sals)\n",
    "temp[np.where(allsssflags!=2)] = np.nan\n",
    "plt.plot(realtimes, temp)"
   ]
  },
  {
   "cell_type": "code",
   "execution_count": 47,
   "metadata": {},
   "outputs": [],
   "source": [
    "tIndices = np.where((realtimes > np.datetime64('2013-12-01')) &  (realtimes < np.datetime64('2013-12-31')))"
   ]
  },
  {
   "cell_type": "code",
   "execution_count": 48,
   "metadata": {},
   "outputs": [
    {
     "name": "stdout",
     "output_type": "stream",
     "text": [
      "(232,)\n"
     ]
    }
   ],
   "source": [
    "print(tIndices[0].shape)"
   ]
  },
  {
   "cell_type": "code",
   "execution_count": 49,
   "metadata": {},
   "outputs": [
    {
     "name": "stdout",
     "output_type": "stream",
     "text": [
      "[32.738 32.736 32.725 32.712 32.727 32.736 32.723 32.737 32.743 32.763\n",
      " 32.765 32.765 32.767 32.766 32.74  32.729 32.74  32.763 32.74  32.733\n",
      " 32.751 32.751 32.764 32.752 32.76  32.744 32.748 32.758 32.76  32.76\n",
      " 32.772 32.761 32.761 32.76  32.763 32.766 32.77  32.761 32.763 32.764\n",
      " 32.764 32.762 32.764 32.769 32.766 32.761 32.766 32.772 32.77  32.773\n",
      " 32.755 32.749 32.765 32.766 32.761 32.761 32.769 32.774 32.78  32.782\n",
      " 32.786 32.791 32.795 32.812 32.806 32.803 32.807 32.811 32.817 32.815\n",
      " 32.824 32.828 32.828 32.823 32.825 32.828 32.838 32.827 32.825 32.845\n",
      " 32.841 32.82  32.807 32.823 32.782 32.682 32.589 32.613 32.616 32.653\n",
      " 32.658 32.708 32.737 32.699 32.758 32.761 32.748 32.769 32.787 32.799\n",
      " 32.808 32.816 32.864 32.864 32.86  32.844 32.831 32.844 32.853 32.855\n",
      " 32.865 32.865 32.91  32.907 32.908 32.913 32.914 32.913 32.915 32.817\n",
      " 32.912 32.929 32.918 32.796 32.806 32.914 32.861 32.816 32.816 32.898\n",
      " 32.916 32.83  32.923 32.789 32.786 32.757 32.754 32.75  32.768 32.797\n",
      " 32.856 32.842 32.757 32.76  32.723 32.669 32.642 32.639 32.62  32.697\n",
      " 32.793 32.73  32.766 32.752 32.734 32.715 32.751 32.775 32.706 32.611\n",
      " 32.618 32.692 32.652 32.61  32.664 32.69  32.716 32.752 32.747 32.794\n",
      " 32.912 32.99  32.959 32.968 32.98  32.997 32.984 32.998 33.019 33.029\n",
      " 33.035 33.036 33.037 33.043 34.865 34.866 34.879 34.877 34.877 34.884\n",
      " 34.88  34.884 34.891 34.893 34.9   34.909 34.908 34.893 34.89  34.905\n",
      " 34.901 34.896 34.894 34.905 34.905 34.91  34.898 34.892 34.892 34.892\n",
      " 34.891 34.907 34.911 34.908 34.888 34.883 34.884 34.766 34.747 34.792\n",
      " 34.876 34.888 34.861 34.873 32.639 32.712 32.818 32.941 32.979 32.999\n",
      " 33.007 33.008]\n"
     ]
    }
   ],
   "source": [
    "print(sals[tIndices[0]])"
   ]
  },
  {
   "cell_type": "code",
   "execution_count": 50,
   "metadata": {},
   "outputs": [
    {
     "data": {
      "text/plain": [
       "[<matplotlib.lines.Line2D at 0x1a30128cf8>]"
      ]
     },
     "execution_count": 50,
     "metadata": {},
     "output_type": "execute_result"
    },
    {
     "data": {
      "image/png": "[encoded data removed]",
      "text/plain": [
       "<Figure size 432x288 with 1 Axes>"
      ]
     },
     "metadata": {
      "needs_background": "light"
     },
     "output_type": "display_data"
    }
   ],
   "source": [
    "plt.plot(realtimes[tIndices[0]], temp[tIndices[0]])"
   ]
  },
  {
   "cell_type": "code",
   "execution_count": null,
   "metadata": {},
   "outputs": [],
   "source": []
  },
  {
   "cell_type": "code",
   "execution_count": null,
   "metadata": {},
   "outputs": [],
   "source": []
  },
  {
   "cell_type": "code",
   "execution_count": null,
   "metadata": {},
   "outputs": [],
   "source": []
  }
 ],
 "metadata": {
  "kernelspec": {
   "display_name": "Python 3",
   "language": "python",
   "name": "python3"
  },
  "language_info": {
   "codemirror_mode": {
    "name": "ipython",
    "version": 3
   },
   "file_extension": ".py",
   "mimetype": "text/x-python",
   "name": "python",
   "nbconvert_exporter": "python",
   "pygments_lexer": "ipython3",
   "version": "3.7.2"
  }
 },
 "nbformat": 4,
 "nbformat_minor": 2
}
